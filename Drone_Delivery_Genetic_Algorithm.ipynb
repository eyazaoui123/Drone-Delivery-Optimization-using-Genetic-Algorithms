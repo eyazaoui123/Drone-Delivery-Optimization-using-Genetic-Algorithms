{
  "cells": [
    {
      "cell_type": "code",
      "execution_count": 281,
      "metadata": {
        "colab": {
          "base_uri": "https://localhost:8080/"
        },
        "id": "99xhnA4Z4_Zt",
        "outputId": "2de3b9d4-b22e-48e0-93d3-7c5ad004c3ac"
      },
      "outputs": [
        {
          "name": "stdout",
          "output_type": "stream",
          "text": [
            "Chromosome 1: [1, 2, 4, 5, 6, 3]\n",
            "Chromosome 2: [1, 2, 6, 4, 5, 3]\n",
            "Chromosome 3: [1, 6, 2, 3, 5, 4]\n",
            "Chromosome 4: [1, 6, 4, 2, 3, 5]\n",
            "Chromosome 5: [1, 6, 4, 5, 3, 2]\n",
            "Chromosome 6: [1, 5, 2, 3, 6, 4]\n",
            "Chromosome 7: [1, 3, 2, 4, 5, 6]\n",
            "Chromosome 8: [1, 5, 4, 6, 2, 3]\n",
            "Chromosome 9: [1, 4, 6, 5, 2, 3]\n",
            "Chromosome 10: [1, 2, 3, 4, 6, 5]\n"
          ]
        }
      ],
      "source": [
        "import random\n",
        "\n",
        "POPULATION_SIZE = 10\n",
        "NB_GENES = 6\n",
        "MUTATION_RATE = 0.01\n",
        "CROSSING_RATE = 0.6\n",
        "\n",
        "Chromosome = list\n",
        "Population = [None] * POPULATION_SIZE\n",
        "\n",
        "# Fonction pour permuter deux éléments dans un tableau\n",
        "def permuter(chromosome: Chromosome, i: int, j: int):\n",
        "    chromosome[i], chromosome[j] = chromosome[j], chromosome[i]\n",
        "\n",
        "# Fonction pour générer un entier aléatoire entre min et max (inclus)\n",
        "def randomInt(min: int, max: int) -> int:\n",
        "    return random.randint(min, max)\n",
        "\n",
        "# Initialiser Population\n",
        "def initialiser_population() -> Population:\n",
        "    population = [None] * POPULATION_SIZE  # Population de taille fixe\n",
        "\n",
        "    for i in range(POPULATION_SIZE):\n",
        "        chromosome = [1]  # Le premier gène est toujours la ville de départ (ville 1)\n",
        "\n",
        "        # Initialiser les villes restantes\n",
        "        entiers = list(range(2, NB_GENES + 1))  # Génère [2, 3, ..., NB_GENES]\n",
        "        N = len(entiers)\n",
        "\n",
        "        # Générer les gènes restants en permutant\n",
        "        for _ in range(1, NB_GENES):\n",
        "            index = randomInt(0, N - 1)  # Index basé sur 0 pour Python\n",
        "            chromosome.append(entiers[index])\n",
        "            permuter(entiers, index, N - 1)  # Échanger avec la dernière position disponible\n",
        "            N -= 1  # Réduire la taille de la liste disponible\n",
        "\n",
        "        # Ajouter le chromosome à la population\n",
        "        population[i] = chromosome\n",
        "\n",
        "    return population\n",
        "\n",
        "# Exemple d'utilisation\n",
        "if __name__ == \"__main__\":\n",
        "    population = initialiser_population()\n",
        "    for i, chromosome in enumerate(population):\n",
        "        print(f\"Chromosome {i + 1}: {chromosome}\")\n",
        "\n"
      ]
    },
    {
      "cell_type": "code",
      "execution_count": 282,
      "metadata": {
        "colab": {
          "base_uri": "https://localhost:8080/"
        },
        "id": "TdyPJ1Jm5ami",
        "outputId": "e80c4ed8-dbe0-412b-ae54-0daad679912f"
      },
      "outputs": [
        {
          "name": "stdout",
          "output_type": "stream",
          "text": [
            "La distance entre la ville 1 et la ville 6 est : 6\n"
          ]
        }
      ],
      "source": [
        "# Initialisation de la matrice de distances (6x6)\n",
        "matrice_distance = [\n",
        "    [0, 4, 18, 20, 14, 6],\n",
        "    [4, 0, 12, 8, 10, 16],\n",
        "    [18, 12, 0, 6, 4, 14],\n",
        "    [20, 8, 6, 0, 16, 10],\n",
        "    [14, 10, 4, 16, 0, 12],\n",
        "    [6, 16, 14, 10, 12, 0]\n",
        "]\n",
        "\n",
        "\n",
        "# Exemple d'utilisation\n",
        "ville_depart = 1  # Ville 1\n",
        "ville_arrivee = 6  # Ville 6\n",
        "\n",
        "# La distance entre la ville 1 et la ville 6\n",
        "distance = matrice_distance[ville_depart - 1][ville_arrivee - 1]\n",
        "print(f\"La distance entre la ville {ville_depart} et la ville {ville_arrivee} est : {distance}\")\n"
      ]
    },
    {
      "cell_type": "code",
      "execution_count": 283,
      "metadata": {
        "id": "K74wohf37ZMb"
      },
      "outputs": [],
      "source": [
        "def fitness(chromosome, matrice_distance):\n",
        "    distance = 0\n",
        "\n",
        "    # Calculer la distance totale en parcourant les villes dans le chromosome\n",
        "    for i in range(NB_GENES - 1):\n",
        "        distance += matrice_distance[chromosome[i] - 1][chromosome[i + 1] - 1]\n",
        "\n",
        "    # Ajouter la distance pour revenir à la ville de départ\n",
        "    distance += matrice_distance[chromosome[-1] - 1][chromosome[0] - 1]\n",
        "    return distance\n"
      ]
    },
    {
      "cell_type": "code",
      "execution_count": 284,
      "metadata": {
        "colab": {
          "base_uri": "https://localhost:8080/"
        },
        "id": "WSA_tYYZ7ct7",
        "outputId": "8849c93c-b657-4c1d-8c86-77ee5c2a8fbb"
      },
      "outputs": [
        {
          "name": "stdout",
          "output_type": "stream",
          "text": [
            "Fitness du chromosome : 94.0000 km\n"
          ]
        }
      ],
      "source": [
        "#tester fitnesse d'un chromosome\n",
        "chromosome = [1, 4,5,6,2,3]\n",
        "resultat_fitness = fitness(chromosome, matrice_distance)\n",
        "print(f\"Fitness du chromosome : {resultat_fitness:.4f} km\")\n"
      ]
    },
    {
      "cell_type": "code",
      "execution_count": 285,
      "metadata": {
        "colab": {
          "base_uri": "https://localhost:8080/"
        },
        "id": "Tqad7_or84SL",
        "outputId": "cb9d1b57-074a-4039-c38c-8f1e8c7a1d56"
      },
      "outputs": [
        {
          "name": "stdout",
          "output_type": "stream",
          "text": [
            "Fitness du chromosome : 40.0000 km\n"
          ]
        }
      ],
      "source": [
        "#tester fitnesse d'un chromosome\n",
        "chromosome= [1,2,4,3,5,6]\n",
        "\n",
        "# Calcul de la fitness pour ce chromosome\n",
        "resultat_fitness_2 = fitness(chromosome_2, matrice_distance)\n",
        "print(f\"Fitness du chromosome : {resultat_fitness_2:.4f} km\")\n"
      ]
    },
    {
      "cell_type": "code",
      "execution_count": 286,
      "metadata": {
        "id": "Q3O4S9Zn91GT"
      },
      "outputs": [],
      "source": [
        "import random\n",
        "\n",
        "def selection_roulette(population):\n",
        "    # Calcul de la fitness totale\n",
        "    fitness_total = 0\n",
        "    for chromosome in population:\n",
        "        fitness_total += fitness(chromosome, matrice_distance)\n",
        "\n",
        "    # Tirage aléatoire entre 0 et la fitness totale\n",
        "    tirage_aleatoire = random.uniform(0, fitness_total)\n",
        "\n",
        "    fitness_partielle = 0\n",
        "\n",
        "    # Sélectionner un chromosome en fonction de la roulette\n",
        "    for chromosome in population:\n",
        "        fitness_partielle += fitness(chromosome, matrice_distance)\n",
        "        if fitness_partielle >= tirage_aleatoire:\n",
        "            return chromosome\n",
        "\n",
        "    # Dernier recours, si aucun chromosome n'est sélectionné\n",
        "    return population[-1]\n"
      ]
    },
    {
      "cell_type": "code",
      "execution_count": 287,
      "metadata": {
        "colab": {
          "base_uri": "https://localhost:8080/"
        },
        "id": "wMUY_fZD94Sp",
        "outputId": "9e3cb142-0356-4f47-adcd-99f4c0b82942"
      },
      "outputs": [
        {
          "name": "stdout",
          "output_type": "stream",
          "text": [
            "Chromosome sélectionné : [1, 3, 2, 4, 5, 6]\n",
            "Fitness du chromosome : 72.0000 km\n"
          ]
        }
      ],
      "source": [
        "# tester Sélection d'un chromosome par la méthode de la roulette\n",
        "selected_chromosome = selection_roulette(population)\n",
        "\n",
        "print(f\"Chromosome sélectionné : {selected_chromosome}\")\n",
        "resultat_fitness = fitness(selected_chromosome, matrice_distance)\n",
        "print(f\"Fitness du chromosome : {resultat_fitness:.4f} km\")\n"
      ]
    },
    {
      "cell_type": "code",
      "execution_count": 288,
      "metadata": {
        "id": "jEErM_FFF1g5"
      },
      "outputs": [],
      "source": [
        "def corriger(child):\n",
        "    manquants = []  # Liste des villes manquantes\n",
        "    compteur = [0] * (NB_GENES + 1)  # Tableau pour compter les occurrences de chaque ville\n",
        "\n",
        "    # Compter les occurrences de chaque ville dans le chromosome\n",
        "    for i in range(NB_GENES):\n",
        "        index = child[i]\n",
        "        compteur[index] += 1\n",
        "\n",
        "    # Trouver les villes manquantes\n",
        "    for j in range(1, NB_GENES + 1):\n",
        "        if compteur[j] == 0:\n",
        "            manquants.append(j)\n",
        "\n",
        "    # Corriger les villes en double dans le chromosome\n",
        "    indice_manquants = 0\n",
        "    for i in range(NB_GENES):\n",
        "        index = child[i]\n",
        "        if compteur[index] > 1:\n",
        "            # Remplacer la ville en double par une ville manquante\n",
        "            child[i] = manquants[indice_manquants]\n",
        "            compteur[index] -= 1\n",
        "            compteur[manquants[indice_manquants]] += 1\n",
        "            indice_manquants += 1\n",
        "\n",
        "    return child"
      ]
    },
    {
      "cell_type": "code",
      "execution_count": 289,
      "metadata": {
        "id": "4xAm8OrICzTe"
      },
      "outputs": [],
      "source": [
        "def crossover(parent1, parent2):\n",
        "    # Création des enfants\n",
        "    child1 = [0] * NB_GENES\n",
        "    child2 = [0] * NB_GENES\n",
        "\n",
        "    # Vérifier si le croisement doit avoir lieu\n",
        "    if random.random() < CROSSING_RATE:\n",
        "        # Point de croisement aléatoire\n",
        "        crossover_point = random.randint(2, NB_GENES - 1)\n",
        "\n",
        "        for i in range(NB_GENES):\n",
        "            if i < crossover_point:\n",
        "                child1[i] = parent1[i]\n",
        "                child2[i] = parent2[i]\n",
        "            else:\n",
        "                child1[i] = parent2[i]\n",
        "                child2[i] = parent1[i]\n",
        "\n",
        "\n",
        "        child1=corriger(child1)\n",
        "        child2=corriger(child2)\n",
        "        return (child1, child2)\n",
        "    else:\n",
        "        return (parent1, parent2)\n"
      ]
    },
    {
      "cell_type": "code",
      "execution_count": 291,
      "metadata": {
        "colab": {
          "base_uri": "https://localhost:8080/"
        },
        "id": "6ssdEF1HF4Eq",
        "outputId": "32e19db5-7f09-4109-a43d-961d5759467d"
      },
      "outputs": [
        {
          "name": "stdout",
          "output_type": "stream",
          "text": [
            "Enfant 1: [1, 4, 2, 6, 5, 3]\n",
            "Enfant 2: [1, 2, 6, 5, 3, 4]\n"
          ]
        }
      ],
      "source": [
        "# tester le croissement\n",
        "parent1 = [1, 4, 2, 6, 5, 3]\n",
        "parent2 = [1, 2, 6, 5, 3, 4]\n",
        "\n",
        "child1, child2 = crossover(parent1, parent2)\n",
        "\n",
        "print(\"Enfant 1:\", child1)\n",
        "print(\"Enfant 2:\", child2)\n",
        "\n"
      ]
    },
    {
      "cell_type": "code",
      "execution_count": 292,
      "metadata": {
        "id": "ekQdIbA7TXrK"
      },
      "outputs": [],
      "source": [
        "def mutate_permutation(parent):\n",
        "    child = parent.copy()  # Créer un enfant en copiant le parent\n",
        "\n",
        "    # Vérifier si une mutation doit avoir lieu\n",
        "    if random.random() < MUTATION_RATE:\n",
        "        # Choisir deux points de mutation distincts, mais éviter l'indice 0\n",
        "        mutationPoint1 = random.randint(1, NB_GENES - 1)\n",
        "        mutationPoint2 = random.randint(1, NB_GENES - 1)\n",
        "\n",
        "        # Assurer que les points sont différents\n",
        "        while mutationPoint1 == mutationPoint2:\n",
        "            mutationPoint2 = random.randint(1, NB_GENES - 1)\n",
        "\n",
        "        # Permuter les éléments aux deux points de mutation\n",
        "        child[mutationPoint1], child[mutationPoint2] = child[mutationPoint2], child[mutationPoint1]\n",
        "\n",
        "    return child"
      ]
    },
    {
      "cell_type": "code",
      "execution_count": 293,
      "metadata": {
        "colab": {
          "base_uri": "https://localhost:8080/"
        },
        "id": "febQZBQITcEO",
        "outputId": "bbd2fe60-5a55-41ce-df41-199a4e9a984a"
      },
      "outputs": [
        {
          "name": "stdout",
          "output_type": "stream",
          "text": [
            "Enfant : [1, 4, 2, 6, 5, 3]\n"
          ]
        }
      ],
      "source": [
        "#tester permutation\n",
        "parent = [1, 4, 2, 6, 5, 3]\n",
        "child= mutate_permutation(parent)\n",
        "\n",
        "print(\"Enfant :\", child)"
      ]
    },
    {
      "cell_type": "code",
      "execution_count": 294,
      "metadata": {
        "id": "ud2oGw4MVcFO"
      },
      "outputs": [],
      "source": [
        "def trier_par_fitness(population, matrice_distance):\n",
        "    return sorted(population, key=lambda chromo: fitness(chromo, matrice_distance))"
      ]
    },
    {
      "cell_type": "code",
      "execution_count": 295,
      "metadata": {
        "id": "CrSRFajJVfk3"
      },
      "outputs": [],
      "source": [
        "# Remplacement de la population par les meilleurs chromosomes\n",
        "def garder_meilleurs(population_actuelle, nouvelle_population):\n",
        "    # Combiner la population actuelle et la nouvelle population\n",
        "    population_totale = population_actuelle + nouvelle_population\n",
        "\n",
        "    # Trier la population combinée par fitness croissante\n",
        "    population_totale = trier_par_fitness(population_totale, matrice_distance)\n",
        "\n",
        "    # Garder seulement les meilleurs chromosomes\n",
        "    population_finale = population_totale[:POPULATION_SIZE]\n",
        "\n",
        "    return population_finale\n"
      ]
    },
    {
      "cell_type": "code",
      "execution_count": 302,
      "metadata": {
        "id": "aH6gT8ejiCFw"
      },
      "outputs": [],
      "source": [
        "import matplotlib.pyplot as plt\n",
        "\n",
        "def afficher_courbe_fitness(meilleures_fitness):\n",
        "    plt.plot(meilleures_fitness)\n",
        "    plt.xlabel('Itération')\n",
        "    plt.ylabel('Meilleure Fitness')\n",
        "    plt.title('Évolution de la meilleure fitness au cours des itérations')\n",
        "\n",
        "    # Générer les graduations des axes\n",
        "    xticks = list(range(len(meilleures_fitness)))\n",
        "    plt.xticks(xticks)\n",
        "\n",
        "    plt.show()"
      ]
    },
    {
      "cell_type": "code",
      "execution_count": 329,
      "metadata": {
        "id": "qs2pEOdmRcDA"
      },
      "outputs": [],
      "source": [
        "# Algorithme génétique\n",
        "def algorithme_genetique():\n",
        "    population = initialiser_population()\n",
        "    iteration = 0\n",
        "    nb_max_iteration_atteint = False\n",
        "    nb_max_iteration = 20\n",
        "    nouvelle_population = []  # Initialization\n",
        "    # Liste pour stocker la meilleure fitness à chaque itération\n",
        "    meilleures_fitness = []\n",
        "    meilleure_fitness_iter = max(fitness(individu, matrice_distance) for individu in population)\n",
        "    meilleures_fitness.append(meilleure_fitness_iter)\n",
        "\n",
        "    while not nb_max_iteration_atteint:\n",
        "\n",
        "        iteration += 1\n",
        "        if iteration == nb_max_iteration:\n",
        "            nb_max_iteration_atteint = True\n",
        "\n",
        "        for i in range(POPULATION_SIZE // 2):\n",
        "            parent1 = selection_roulette(population)\n",
        "            parent2 = selection_roulette(population)\n",
        "            enfant1, enfant2 = crossover(parent1, parent2)\n",
        "            enfant1 = mutate_permutation(enfant1)\n",
        "            enfant2 = mutate_permutation(enfant2)\n",
        "            nouvelle_population.extend([enfant1, enfant2]) # Append enfants\n",
        "\n",
        "\n",
        "        # Remplacement de la population par les meilleurs chromosomes\n",
        "        population = garder_meilleurs(population, nouvelle_population)\n",
        "        nouvelle_population = [] # Reset pour next generation\n",
        "        # Calculer la meilleure fitness de la population actuelle\n",
        "        meilleure_fitness_iter = min(fitness(individu, matrice_distance) for individu in population)\n",
        "        meilleures_fitness.append(meilleure_fitness_iter)\n",
        "\n",
        "    # Trouver le meilleur chromosome\n",
        "    meilleur_chromosome = population[0]\n",
        "    for i in range(1, POPULATION_SIZE):\n",
        "        if fitness(population[i], matrice_distance) < fitness(meilleur_chromosome, matrice_distance):\n",
        "            meilleur_chromosome = population[i]\n",
        "\n",
        "    # Appel à la fonction pour afficher la courbe\n",
        "    afficher_courbe_fitness(meilleures_fitness)\n",
        "    return meilleur_chromosome\n"
      ]
    },
    {
      "cell_type": "code",
      "execution_count": 327,
      "metadata": {
        "colab": {
          "base_uri": "https://localhost:8080/",
          "height": 507
        },
        "id": "6U4dcx9wRj-X",
        "outputId": "7e9d90be-692b-44eb-9802-92021c104f50"
      },
      "outputs": [
        {
          "data": {
            "image/png": "[encoded data removed]",
            "text/plain": [
              "<Figure size 640x480 with 1 Axes>"
            ]
          },
          "metadata": {},
          "output_type": "display_data"
        },
        {
          "name": "stdout",
          "output_type": "stream",
          "text": [
            "meilleur Chromosome  : [1, 6, 4, 3, 5, 2]\n",
            "Fitness du chromosome : 40.0000 km\n"
          ]
        }
      ],
      "source": [
        "best_chromosome = algorithme_genetique()\n",
        "\n",
        "print(f\"meilleur Chromosome  : {best_chromosome}\")\n",
        "\n",
        "resultat_fitness = fitness(best_chromosome, matrice_distance)\n",
        "print(f\"Fitness du chromosome : {resultat_fitness:.4f} km\")"
      ]
    }
  ],
  "metadata": {
    "colab": {
      "provenance": []
    },
    "kernelspec": {
      "display_name": "Python 3",
      "name": "python3"
    },
    "language_info": {
      "name": "python"
    }
  },
  "nbformat": 4,
  "nbformat_minor": 0
}
